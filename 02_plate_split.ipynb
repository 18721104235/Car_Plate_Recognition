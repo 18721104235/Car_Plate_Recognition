{
 "cells": [
  {
   "cell_type": "code",
   "execution_count": 9,
   "metadata": {},
   "outputs": [],
   "source": [
    "import cv2\n",
    "import numpy as np\n",
    "from numpy.linalg import norm\n",
    "import sys\n",
    "import os\n",
    "import json\n",
    "#自定义类\n",
    "from plates_split_utils.plates_split import plates_split"
   ]
  },
  {
   "cell_type": "code",
   "execution_count": 10,
   "metadata": {},
   "outputs": [],
   "source": [
    "shape=32\n",
    "plate_path=\"./plates_image/5_2.jpg\"\n",
    "color_mark=int(os.path.split(plate_path)[-1][:-4][-1])\n",
    "img=cv2.imread(plate_path,0)\n",
    "cv2.imshow('img',img)\n",
    "cv2.waitKey(0)\n",
    "cv2.destroyAllWindows()"
   ]
  },
  {
   "cell_type": "code",
   "execution_count": 11,
   "metadata": {},
   "outputs": [
    {
     "data": {
      "text/plain": [
       "8"
      ]
     },
     "execution_count": 11,
     "metadata": {},
     "output_type": "execute_result"
    }
   ],
   "source": [
    "'''实例初始化'''\n",
    "plates_split=plates_split.initialize(plate_path,shape)\n",
    "\n",
    "'''\n",
    "实现功能：\n",
    "1. canny查找边界\n",
    "2. 查找external轮廓\n",
    "3. 根据contour查找convexhull\n",
    "4. 过滤不符合位置和尺寸的convexhull\n",
    "5. 把剩下的hull按照x轴排序\n",
    "'''\n",
    "rects=plates_split.find_external_convexHull()\n",
    "\n",
    "'''\n",
    "实现功能：\n",
    "合并粘连框\n",
    "'''\n",
    "rects=plates_split.filter_rects(rects)\n",
    "\n",
    "'''\n",
    "实现功能：\n",
    "对多框少框做处理\n",
    "'''\n",
    "rects=plates_split.adjust_rects(rects,color_mark)\n",
    "\n",
    "'''\n",
    "实现功能：\n",
    "由于中文字符一般比别的字母要宽，而且中文有的有左右偏旁，有可能方框会从中间把中文分开，所以这里对中文字符进行宽度加长处理\n",
    "'''\n",
    "rects=plates_split.adjust_chinese(rects)\n",
    "\n",
    "'''\n",
    "实现功能：\n",
    "字符分割\n",
    "字符填充边界\n",
    "'''\n",
    "characters=plates_split.plate_split(rects)\n",
    "len(characters)"
   ]
  },
  {
   "cell_type": "code",
   "execution_count": 12,
   "metadata": {},
   "outputs": [],
   "source": [
    "import matplotlib.pyplot as plt\n",
    "\n",
    "def plot_characters(characters):\n",
    "    \n",
    "    fig, axes = plt.subplots(1, len(characters), figsize=(12, 3*len(characters)),\n",
    "                         subplot_kw={'xticks':[], 'yticks':[]},\n",
    "    gridspec_kw=dict(hspace=0.1, wspace=0.1)) \n",
    "    for i, ax in enumerate(axes.flat):\n",
    "        ax.imshow(characters[i], cmap='bone')\n",
    "    plt.show()"
   ]
  },
  {
   "cell_type": "code",
   "execution_count": 13,
   "metadata": {},
   "outputs": [
    {
     "data": {
      "image/png": "[encoded data removed]",
      "text/plain": [
       "<Figure size 864x1728 with 8 Axes>"
      ]
     },
     "metadata": {},
     "output_type": "display_data"
    }
   ],
   "source": [
    "plot_characters(characters)"
   ]
  },
  {
   "cell_type": "code",
   "execution_count": null,
   "metadata": {},
   "outputs": [],
   "source": []
  }
 ],
 "metadata": {
  "kernelspec": {
   "display_name": "Python 3",
   "language": "python",
   "name": "python3"
  },
  "language_info": {
   "codemirror_mode": {
    "name": "ipython",
    "version": 3
   },
   "file_extension": ".py",
   "mimetype": "text/x-python",
   "name": "python",
   "nbconvert_exporter": "python",
   "pygments_lexer": "ipython3",
   "version": "3.7.4"
  }
 },
 "nbformat": 4,
 "nbformat_minor": 2
}
