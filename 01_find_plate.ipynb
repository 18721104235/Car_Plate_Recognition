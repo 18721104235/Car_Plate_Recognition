{
 "cells": [
  {
   "cell_type": "code",
   "execution_count": 4,
   "metadata": {},
   "outputs": [],
   "source": [
    "import cv2\n",
    "import numpy as np\n",
    "from numpy.linalg import norm\n",
    "import sys\n",
    "import os\n",
    "import json\n",
    "#自定义类\n",
    "from plate_recognition_utils.plate_recog import plate_recognition"
   ]
  },
  {
   "cell_type": "code",
   "execution_count": 10,
   "metadata": {},
   "outputs": [],
   "source": [
    "img_path=\"./cars_image/2.jpg\"\n",
    "\n",
    "#检测常见车牌长宽比\n",
    "wh_ratio_low=1.9\n",
    "wh_ratio_high=5.5\n",
    "\n",
    "Min_Area = 2000\n",
    "kernel_size=3\n",
    "blur=19\n",
    "\n",
    "'''初始化实例'''\n",
    "plate_recog=plate_recognition.initialize(img_path,wh_ratio_low,wh_ratio_high,Min_Area,kernel_size,blur)\n",
    "\n",
    "'''\n",
    "图像处理第二步\n",
    "实现功能\n",
    "1：对上步骤返回的掩码图像查找contours\n",
    "2：筛选出contourArea大于2000的轮廓\n",
    "'''\n",
    "mask_blue, mask_green, mask_yellow=plate_recog.plate_inRange()"
   ]
  },
  {
   "cell_type": "code",
   "execution_count": 11,
   "metadata": {},
   "outputs": [],
   "source": [
    "'''绘出掩码图片'''\n",
    "plate_recognition.draw(img_path,mask_blue, mask_green, mask_yellow)"
   ]
  },
  {
   "cell_type": "code",
   "execution_count": 12,
   "metadata": {},
   "outputs": [],
   "source": [
    "'''\n",
    "图像处理第二步\n",
    "实现功能\n",
    "1：对上步骤返回的掩码图像查找contours\n",
    "2：筛选出contourArea大于2000的轮廓\n",
    "'''\n",
    "contours_b, contours_g, contours_y=plate_recog.findContours(mask_blue, mask_green, mask_yellow)\n",
    "\n",
    "'''\n",
    "图像处理第三步\n",
    "实现功能\n",
    "1：调用子函数plate_box_selection去除不符合长宽比，角度的contours\n",
    "'''\n",
    "contours,color_mark=plate_recog.plate_boxes_selection(contours_b,contours_g,contours_y)\n",
    "\n",
    "'''\n",
    "图像处理第四步\n",
    "实现功能\n",
    "1：调用子函数crop_rect对每个contour进行旋转操作\n",
    "'''\n",
    "img_crops=plate_recog.crop_recycle(contours)\n",
    "\n",
    "'''\n",
    "图像处理第五步：\n",
    "实现代码\n",
    "1：将黄色图像做颜色反向处理,以便于后期做图像二值化处理\n",
    "'''\n",
    "img_crops=plate_recog.reverse_yellow_plate(img_crops,color_mark)\n",
    "\n",
    "'''\n",
    "图像处理第六步：\n",
    "实现功能\n",
    "根据颜色比例筛选不合格contour\n",
    "'''\n",
    "crops,color_mark,contours=plate_recog.crops_filter_color(img_crops,color_mark,contours)\n",
    "\n",
    "'''\n",
    "图片处理第七步：\n",
    "实现功能\n",
    "通过子函数crop_cut_ylim check_black_rim check_white_rim 对车牌边框进行切除\n",
    "'''\n",
    "crops,contours=plate_recog.cut_rim(crops,color_mark,contours)\n",
    "\n",
    "'''\n",
    "图像处理第八步：\n",
    "实现功能\n",
    "车牌的二值化图每个字符之间是有间隔的，根据波谷去除不合格数据\n",
    "'''\n",
    "crops,color_mark,contours=plate_recog.crops_filter_by_vally(crops,color_mark,contours)\n",
    "\n",
    "'''\n",
    "图像处理第九步：\n",
    "实现功能：\n",
    "容易受到树边框和蓝色路牌的影响，由于树和蓝色路牌一般在图片的上半部分，我们这里去掉图像上1/3的框\n",
    "注：经验主义，不赞同的同学可以pass这一步\n",
    "'''\n",
    "crops,color_mark,contours=plate_recog.crops_filter_by_common(crops,color_mark,contours)\n",
    "\n",
    "'''\n",
    "图像处理最后一步：\n",
    "实现功能：\n",
    "将剩下的框中面积最大的一个框作为车牌\n",
    "'''\n",
    "plate,color_mark=plate_recog.crops_filter_size(crops,color_mark)"
   ]
  },
  {
   "cell_type": "code",
   "execution_count": 13,
   "metadata": {},
   "outputs": [],
   "source": [
    "'''\n",
    "目前github上绝大部分车牌抠取采用的是\n",
    "第一步：threshold,inrange,findcoutours根据车牌白边框找到contours\n",
    "第二步：再根据找到的框筛选颜色，做一层层处理，\n",
    "但是经实践，我发现这种方法在第一步正确定位框效率就较低，画出的框边界不贴合。且由于找到的框太多，后期筛选也相对困难\n",
    "\n",
    "我这里采用hsv,inrange创建掩码，根据颜色分别过滤筛选蓝，黄，绿三种颜色车牌，经实践，效率高，且contours边界贴合\n",
    "但是存在一个问题，对蓝车蓝牌，黄车黄牌不敏感\n",
    "\n",
    "于是，这里我对两种定位思路进行融合，在上述代码没有找到车牌的情况下，\n",
    "将采用以下方法进行车牌再次定位，以查缺补漏\n",
    "'''\n",
    "\n",
    "if color_mark!=0:\n",
    "    cv2.imshow(\"plate\", plate)\n",
    "    cv2.waitKey(0)\n",
    "    cv2.destroyAllWindows()  \n",
    "else:\n",
    "    contours=plate_recog.find_contours_by_Canny()\n",
    "    contours=plate_recog.plate_box_selection(contours)\n",
    "    img_crops=plate_recog.crop_recycle(contours)\n",
    "    color_mark=[1]*len(img_crops)\n",
    "    crops,color_mark,contours=plate_recog.crops_filter_color(img_crops,color_mark,contours)\n",
    "    crops,contours=plate_recog.cut_rim(crops,color_mark,contours)\n",
    "    crops,color_mark,contours=plate_recog.crops_filter_by_vally(crops,color_mark,contours)\n",
    "    crops,color_mark,contours=plate_recog.crops_filter_by_common(crops,color_mark,contours)\n",
    "    plate,color_mark=plate_recog.crops_filter_size(crops,color_mark)\n",
    "    if color_mark!=0:\n",
    "        cv2.imshow(\"plate\", plate)\n",
    "        cv2.waitKey(0)\n",
    "        cv2.destroyAllWindows() \n",
    "    else:\n",
    "        print('no plate found')"
   ]
  },
  {
   "cell_type": "code",
   "execution_count": 10,
   "metadata": {},
   "outputs": [
    {
     "data": {
      "text/plain": [
       "True"
      ]
     },
     "execution_count": 10,
     "metadata": {},
     "output_type": "execute_result"
    }
   ],
   "source": [
    "plate_path=\"./plates_image/9_%d.jpg\" % color_mark\n",
    "\n",
    "cv2.imwrite(plate_path,plate)"
   ]
  },
  {
   "cell_type": "code",
   "execution_count": null,
   "metadata": {},
   "outputs": [],
   "source": []
  }
 ],
 "metadata": {
  "kernelspec": {
   "display_name": "Python 3",
   "language": "python",
   "name": "python3"
  },
  "language_info": {
   "codemirror_mode": {
    "name": "ipython",
    "version": 3
   },
   "file_extension": ".py",
   "mimetype": "text/x-python",
   "name": "python",
   "nbconvert_exporter": "python",
   "pygments_lexer": "ipython3",
   "version": "3.7.4"
  }
 },
 "nbformat": 4,
 "nbformat_minor": 2
}
