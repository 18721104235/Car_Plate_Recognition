{
 "cells": [
  {
   "cell_type": "code",
   "execution_count": 43,
   "metadata": {},
   "outputs": [
    {
     "name": "stdout",
     "output_type": "stream",
     "text": [
      "2.0.0\n",
      "sys.version_info(major=3, minor=7, micro=4, releaselevel='final', serial=0)\n",
      "matplotlib 3.1.1\n",
      "numpy 1.17.2\n",
      "pandas 0.25.1\n",
      "sklearn 0.21.3\n",
      "tensorflow 2.0.0\n",
      "tensorflow_core.keras 2.2.4-tf\n"
     ]
    }
   ],
   "source": [
    "%matplotlib inline\n",
    "import matplotlib as mpl\n",
    "import matplotlib.pyplot as plt\n",
    "import numpy as np\n",
    "import os\n",
    "import pandas as pd\n",
    "import sklearn\n",
    "import sys\n",
    "import tensorflow as tf\n",
    "import time\n",
    "from tensorflow import keras\n",
    "print(tf.__version__)\n",
    "print(sys.version_info)\n",
    "for module in mpl, np, pd, sklearn, tf, keras:\n",
    "    print(module.__name__, module.__version__)\n",
    "\n",
    "import numpy as np\n",
    "import glob\n",
    "import pandas as pd\n",
    "import os"
   ]
  },
  {
   "cell_type": "code",
   "execution_count": 44,
   "metadata": {},
   "outputs": [
    {
     "data": {
      "text/plain": [
       "{0: '京', 1: '闽', 2: '粤', 3: '苏', 4: '沪', 5: '浙'}"
      ]
     },
     "execution_count": 44,
     "metadata": {},
     "output_type": "execute_result"
    }
   ],
   "source": [
    "train_root_path='/root/tensorflow_practice/carplate_recognition/car_license_dataset/train_images/training-set/chinese-characters/'\n",
    "test_root_path='/root/tensorflow_practice/carplate_recognition/car_license_dataset/train_images/validation-set/chinese-characters/'\n",
    "\n",
    "dict_number_value=[\"京\", \"闽\", \"粤\", \"苏\", \"沪\", \"浙\"]\n",
    "dict_number_key=list(range(6))\n",
    "dict_number=dict(zip(dict_number_key,dict_number_value))\n",
    "dict_number"
   ]
  },
  {
   "cell_type": "code",
   "execution_count": 45,
   "metadata": {},
   "outputs": [],
   "source": [
    "train_paths=glob.glob(train_root_path+'*/*')\n",
    "test_paths=glob.glob(test_root_path+'*/*')"
   ]
  },
  {
   "cell_type": "code",
   "execution_count": 46,
   "metadata": {},
   "outputs": [],
   "source": [
    "number_paths=[]\n",
    "labels=[]\n",
    "for path in train_paths:\n",
    "    idx=path.split('/')[-2]\n",
    "    label=dict_number[int(idx)]\n",
    "    number_paths.append(path)\n",
    "    labels.append(label)"
   ]
  },
  {
   "cell_type": "code",
   "execution_count": 47,
   "metadata": {},
   "outputs": [
    {
     "data": {
      "text/html": [
       "<div>\n",
       "<style scoped>\n",
       "    .dataframe tbody tr th:only-of-type {\n",
       "        vertical-align: middle;\n",
       "    }\n",
       "\n",
       "    .dataframe tbody tr th {\n",
       "        vertical-align: top;\n",
       "    }\n",
       "\n",
       "    .dataframe thead th {\n",
       "        text-align: right;\n",
       "    }\n",
       "</style>\n",
       "<table border=\"1\" class=\"dataframe\">\n",
       "  <thead>\n",
       "    <tr style=\"text-align: right;\">\n",
       "      <th></th>\n",
       "      <th>paths</th>\n",
       "      <th>labels</th>\n",
       "    </tr>\n",
       "  </thead>\n",
       "  <tbody>\n",
       "    <tr>\n",
       "      <td>0</td>\n",
       "      <td>/root/tensorflow_practice/carplate_recognition...</td>\n",
       "      <td>京</td>\n",
       "    </tr>\n",
       "    <tr>\n",
       "      <td>1</td>\n",
       "      <td>/root/tensorflow_practice/carplate_recognition...</td>\n",
       "      <td>粤</td>\n",
       "    </tr>\n",
       "    <tr>\n",
       "      <td>2</td>\n",
       "      <td>/root/tensorflow_practice/carplate_recognition...</td>\n",
       "      <td>粤</td>\n",
       "    </tr>\n",
       "    <tr>\n",
       "      <td>3</td>\n",
       "      <td>/root/tensorflow_practice/carplate_recognition...</td>\n",
       "      <td>沪</td>\n",
       "    </tr>\n",
       "    <tr>\n",
       "      <td>4</td>\n",
       "      <td>/root/tensorflow_practice/carplate_recognition...</td>\n",
       "      <td>苏</td>\n",
       "    </tr>\n",
       "    <tr>\n",
       "      <td>...</td>\n",
       "      <td>...</td>\n",
       "      <td>...</td>\n",
       "    </tr>\n",
       "    <tr>\n",
       "      <td>1249</td>\n",
       "      <td>/root/tensorflow_practice/carplate_recognition...</td>\n",
       "      <td>苏</td>\n",
       "    </tr>\n",
       "    <tr>\n",
       "      <td>1250</td>\n",
       "      <td>/root/tensorflow_practice/carplate_recognition...</td>\n",
       "      <td>苏</td>\n",
       "    </tr>\n",
       "    <tr>\n",
       "      <td>1251</td>\n",
       "      <td>/root/tensorflow_practice/carplate_recognition...</td>\n",
       "      <td>苏</td>\n",
       "    </tr>\n",
       "    <tr>\n",
       "      <td>1252</td>\n",
       "      <td>/root/tensorflow_practice/carplate_recognition...</td>\n",
       "      <td>浙</td>\n",
       "    </tr>\n",
       "    <tr>\n",
       "      <td>1253</td>\n",
       "      <td>/root/tensorflow_practice/carplate_recognition...</td>\n",
       "      <td>闽</td>\n",
       "    </tr>\n",
       "  </tbody>\n",
       "</table>\n",
       "<p>1254 rows × 2 columns</p>\n",
       "</div>"
      ],
      "text/plain": [
       "                                                  paths labels\n",
       "0     /root/tensorflow_practice/carplate_recognition...      京\n",
       "1     /root/tensorflow_practice/carplate_recognition...      粤\n",
       "2     /root/tensorflow_practice/carplate_recognition...      粤\n",
       "3     /root/tensorflow_practice/carplate_recognition...      沪\n",
       "4     /root/tensorflow_practice/carplate_recognition...      苏\n",
       "...                                                 ...    ...\n",
       "1249  /root/tensorflow_practice/carplate_recognition...      苏\n",
       "1250  /root/tensorflow_practice/carplate_recognition...      苏\n",
       "1251  /root/tensorflow_practice/carplate_recognition...      苏\n",
       "1252  /root/tensorflow_practice/carplate_recognition...      浙\n",
       "1253  /root/tensorflow_practice/carplate_recognition...      闽\n",
       "\n",
       "[1254 rows x 2 columns]"
      ]
     },
     "execution_count": 47,
     "metadata": {},
     "output_type": "execute_result"
    }
   ],
   "source": [
    "train_number_data=np.c_[np.array(number_paths),np.array(labels)]\n",
    "np.random.shuffle(train_number_data)\n",
    "number_train_data=pd.DataFrame(train_number_data,columns=['paths','labels'])\n",
    "number_train_data"
   ]
  },
  {
   "cell_type": "code",
   "execution_count": 48,
   "metadata": {},
   "outputs": [],
   "source": [
    "number_paths=[]\n",
    "labels=[]\n",
    "for path in test_paths:\n",
    "    idx=path.split('/')[-2]\n",
    "    label=dict_number[int(idx)]\n",
    "    number_paths.append(path)\n",
    "    labels.append(label)"
   ]
  },
  {
   "cell_type": "code",
   "execution_count": 49,
   "metadata": {},
   "outputs": [
    {
     "data": {
      "text/html": [
       "<div>\n",
       "<style scoped>\n",
       "    .dataframe tbody tr th:only-of-type {\n",
       "        vertical-align: middle;\n",
       "    }\n",
       "\n",
       "    .dataframe tbody tr th {\n",
       "        vertical-align: top;\n",
       "    }\n",
       "\n",
       "    .dataframe thead th {\n",
       "        text-align: right;\n",
       "    }\n",
       "</style>\n",
       "<table border=\"1\" class=\"dataframe\">\n",
       "  <thead>\n",
       "    <tr style=\"text-align: right;\">\n",
       "      <th></th>\n",
       "      <th>paths</th>\n",
       "      <th>labels</th>\n",
       "    </tr>\n",
       "  </thead>\n",
       "  <tbody>\n",
       "    <tr>\n",
       "      <td>0</td>\n",
       "      <td>/root/tensorflow_practice/carplate_recognition...</td>\n",
       "      <td>粤</td>\n",
       "    </tr>\n",
       "    <tr>\n",
       "      <td>1</td>\n",
       "      <td>/root/tensorflow_practice/carplate_recognition...</td>\n",
       "      <td>苏</td>\n",
       "    </tr>\n",
       "    <tr>\n",
       "      <td>2</td>\n",
       "      <td>/root/tensorflow_practice/carplate_recognition...</td>\n",
       "      <td>粤</td>\n",
       "    </tr>\n",
       "    <tr>\n",
       "      <td>3</td>\n",
       "      <td>/root/tensorflow_practice/carplate_recognition...</td>\n",
       "      <td>苏</td>\n",
       "    </tr>\n",
       "    <tr>\n",
       "      <td>4</td>\n",
       "      <td>/root/tensorflow_practice/carplate_recognition...</td>\n",
       "      <td>沪</td>\n",
       "    </tr>\n",
       "    <tr>\n",
       "      <td>5</td>\n",
       "      <td>/root/tensorflow_practice/carplate_recognition...</td>\n",
       "      <td>粤</td>\n",
       "    </tr>\n",
       "    <tr>\n",
       "      <td>6</td>\n",
       "      <td>/root/tensorflow_practice/carplate_recognition...</td>\n",
       "      <td>闽</td>\n",
       "    </tr>\n",
       "    <tr>\n",
       "      <td>7</td>\n",
       "      <td>/root/tensorflow_practice/carplate_recognition...</td>\n",
       "      <td>苏</td>\n",
       "    </tr>\n",
       "    <tr>\n",
       "      <td>8</td>\n",
       "      <td>/root/tensorflow_practice/carplate_recognition...</td>\n",
       "      <td>浙</td>\n",
       "    </tr>\n",
       "    <tr>\n",
       "      <td>9</td>\n",
       "      <td>/root/tensorflow_practice/carplate_recognition...</td>\n",
       "      <td>粤</td>\n",
       "    </tr>\n",
       "    <tr>\n",
       "      <td>10</td>\n",
       "      <td>/root/tensorflow_practice/carplate_recognition...</td>\n",
       "      <td>闽</td>\n",
       "    </tr>\n",
       "    <tr>\n",
       "      <td>11</td>\n",
       "      <td>/root/tensorflow_practice/carplate_recognition...</td>\n",
       "      <td>粤</td>\n",
       "    </tr>\n",
       "    <tr>\n",
       "      <td>12</td>\n",
       "      <td>/root/tensorflow_practice/carplate_recognition...</td>\n",
       "      <td>浙</td>\n",
       "    </tr>\n",
       "    <tr>\n",
       "      <td>13</td>\n",
       "      <td>/root/tensorflow_practice/carplate_recognition...</td>\n",
       "      <td>沪</td>\n",
       "    </tr>\n",
       "    <tr>\n",
       "      <td>14</td>\n",
       "      <td>/root/tensorflow_practice/carplate_recognition...</td>\n",
       "      <td>浙</td>\n",
       "    </tr>\n",
       "    <tr>\n",
       "      <td>15</td>\n",
       "      <td>/root/tensorflow_practice/carplate_recognition...</td>\n",
       "      <td>浙</td>\n",
       "    </tr>\n",
       "    <tr>\n",
       "      <td>16</td>\n",
       "      <td>/root/tensorflow_practice/carplate_recognition...</td>\n",
       "      <td>闽</td>\n",
       "    </tr>\n",
       "    <tr>\n",
       "      <td>17</td>\n",
       "      <td>/root/tensorflow_practice/carplate_recognition...</td>\n",
       "      <td>京</td>\n",
       "    </tr>\n",
       "    <tr>\n",
       "      <td>18</td>\n",
       "      <td>/root/tensorflow_practice/carplate_recognition...</td>\n",
       "      <td>京</td>\n",
       "    </tr>\n",
       "    <tr>\n",
       "      <td>19</td>\n",
       "      <td>/root/tensorflow_practice/carplate_recognition...</td>\n",
       "      <td>浙</td>\n",
       "    </tr>\n",
       "    <tr>\n",
       "      <td>20</td>\n",
       "      <td>/root/tensorflow_practice/carplate_recognition...</td>\n",
       "      <td>京</td>\n",
       "    </tr>\n",
       "    <tr>\n",
       "      <td>21</td>\n",
       "      <td>/root/tensorflow_practice/carplate_recognition...</td>\n",
       "      <td>粤</td>\n",
       "    </tr>\n",
       "    <tr>\n",
       "      <td>22</td>\n",
       "      <td>/root/tensorflow_practice/carplate_recognition...</td>\n",
       "      <td>京</td>\n",
       "    </tr>\n",
       "    <tr>\n",
       "      <td>23</td>\n",
       "      <td>/root/tensorflow_practice/carplate_recognition...</td>\n",
       "      <td>闽</td>\n",
       "    </tr>\n",
       "    <tr>\n",
       "      <td>24</td>\n",
       "      <td>/root/tensorflow_practice/carplate_recognition...</td>\n",
       "      <td>京</td>\n",
       "    </tr>\n",
       "    <tr>\n",
       "      <td>25</td>\n",
       "      <td>/root/tensorflow_practice/carplate_recognition...</td>\n",
       "      <td>沪</td>\n",
       "    </tr>\n",
       "    <tr>\n",
       "      <td>26</td>\n",
       "      <td>/root/tensorflow_practice/carplate_recognition...</td>\n",
       "      <td>沪</td>\n",
       "    </tr>\n",
       "    <tr>\n",
       "      <td>27</td>\n",
       "      <td>/root/tensorflow_practice/carplate_recognition...</td>\n",
       "      <td>京</td>\n",
       "    </tr>\n",
       "    <tr>\n",
       "      <td>28</td>\n",
       "      <td>/root/tensorflow_practice/carplate_recognition...</td>\n",
       "      <td>苏</td>\n",
       "    </tr>\n",
       "    <tr>\n",
       "      <td>29</td>\n",
       "      <td>/root/tensorflow_practice/carplate_recognition...</td>\n",
       "      <td>苏</td>\n",
       "    </tr>\n",
       "    <tr>\n",
       "      <td>30</td>\n",
       "      <td>/root/tensorflow_practice/carplate_recognition...</td>\n",
       "      <td>苏</td>\n",
       "    </tr>\n",
       "    <tr>\n",
       "      <td>31</td>\n",
       "      <td>/root/tensorflow_practice/carplate_recognition...</td>\n",
       "      <td>闽</td>\n",
       "    </tr>\n",
       "  </tbody>\n",
       "</table>\n",
       "</div>"
      ],
      "text/plain": [
       "                                                paths labels\n",
       "0   /root/tensorflow_practice/carplate_recognition...      粤\n",
       "1   /root/tensorflow_practice/carplate_recognition...      苏\n",
       "2   /root/tensorflow_practice/carplate_recognition...      粤\n",
       "3   /root/tensorflow_practice/carplate_recognition...      苏\n",
       "4   /root/tensorflow_practice/carplate_recognition...      沪\n",
       "5   /root/tensorflow_practice/carplate_recognition...      粤\n",
       "6   /root/tensorflow_practice/carplate_recognition...      闽\n",
       "7   /root/tensorflow_practice/carplate_recognition...      苏\n",
       "8   /root/tensorflow_practice/carplate_recognition...      浙\n",
       "9   /root/tensorflow_practice/carplate_recognition...      粤\n",
       "10  /root/tensorflow_practice/carplate_recognition...      闽\n",
       "11  /root/tensorflow_practice/carplate_recognition...      粤\n",
       "12  /root/tensorflow_practice/carplate_recognition...      浙\n",
       "13  /root/tensorflow_practice/carplate_recognition...      沪\n",
       "14  /root/tensorflow_practice/carplate_recognition...      浙\n",
       "15  /root/tensorflow_practice/carplate_recognition...      浙\n",
       "16  /root/tensorflow_practice/carplate_recognition...      闽\n",
       "17  /root/tensorflow_practice/carplate_recognition...      京\n",
       "18  /root/tensorflow_practice/carplate_recognition...      京\n",
       "19  /root/tensorflow_practice/carplate_recognition...      浙\n",
       "20  /root/tensorflow_practice/carplate_recognition...      京\n",
       "21  /root/tensorflow_practice/carplate_recognition...      粤\n",
       "22  /root/tensorflow_practice/carplate_recognition...      京\n",
       "23  /root/tensorflow_practice/carplate_recognition...      闽\n",
       "24  /root/tensorflow_practice/carplate_recognition...      京\n",
       "25  /root/tensorflow_practice/carplate_recognition...      沪\n",
       "26  /root/tensorflow_practice/carplate_recognition...      沪\n",
       "27  /root/tensorflow_practice/carplate_recognition...      京\n",
       "28  /root/tensorflow_practice/carplate_recognition...      苏\n",
       "29  /root/tensorflow_practice/carplate_recognition...      苏\n",
       "30  /root/tensorflow_practice/carplate_recognition...      苏\n",
       "31  /root/tensorflow_practice/carplate_recognition...      闽"
      ]
     },
     "execution_count": 49,
     "metadata": {},
     "output_type": "execute_result"
    }
   ],
   "source": [
    "test_number_data=np.c_[np.array(number_paths),np.array(labels)]\n",
    "np.random.shuffle(test_number_data)\n",
    "number_test_data=pd.DataFrame(test_number_data,columns=['paths','labels'])\n",
    "number_test_data"
   ]
  },
  {
   "cell_type": "code",
   "execution_count": 50,
   "metadata": {},
   "outputs": [
    {
     "name": "stdout",
     "output_type": "stream",
     "text": [
      "Found 1254 validated image filenames belonging to 6 classes.\n"
     ]
    }
   ],
   "source": [
    "height = 40\n",
    "width = 32\n",
    "channels = 3\n",
    "batch_size = 32\n",
    "num_classes = 6\n",
    "\n",
    "train_datagen = keras.preprocessing.image.ImageDataGenerator(\n",
    "    rescale = 1./255\n",
    ")\n",
    "\n",
    "train_generator = train_datagen.flow_from_dataframe(\n",
    "    number_train_data,\n",
    "    directory = '/',\n",
    "    x_col = 'paths',\n",
    "    y_col = 'labels',\n",
    "    target_size = (height, width),\n",
    "    batch_size = batch_size,\n",
    "    seed = 7,\n",
    "    shuffle = True,\n",
    "    class_mode = 'sparse'\n",
    ")"
   ]
  },
  {
   "cell_type": "code",
   "execution_count": 51,
   "metadata": {},
   "outputs": [
    {
     "name": "stdout",
     "output_type": "stream",
     "text": [
      "Found 32 validated image filenames belonging to 6 classes.\n"
     ]
    }
   ],
   "source": [
    "valid_datagen = keras.preprocessing.image.ImageDataGenerator(\n",
    "    rescale = 1./255\n",
    ")\n",
    "\n",
    "valid_generator = valid_datagen.flow_from_dataframe(\n",
    "    number_test_data,\n",
    "    directory = '/',\n",
    "    x_col = 'paths',\n",
    "    y_col = 'labels',\n",
    "    target_size = (height, width),\n",
    "    batch_size = batch_size,\n",
    "    seed = 7,\n",
    "    shuffle = False,\n",
    "    class_mode = \"sparse\")"
   ]
  },
  {
   "cell_type": "code",
   "execution_count": 52,
   "metadata": {},
   "outputs": [
    {
     "name": "stdout",
     "output_type": "stream",
     "text": [
      "(32, 40, 32, 3) (32,)\n",
      "[3. 5. 3. 1. 4. 2. 1. 3. 1. 3. 1. 1. 4. 4. 5. 4. 3. 4. 2. 2. 2. 4. 3. 4.\n",
      " 3. 0. 4. 3. 0. 3. 0. 3.]\n",
      "(32, 40, 32, 3) (32,)\n",
      "[4. 3. 5. 4. 0. 0. 3. 4. 4. 5. 1. 3. 4. 2. 3. 5. 0. 5. 2. 3. 1. 2. 3. 4.\n",
      " 4. 3. 1. 3. 2. 4. 0. 5.]\n"
     ]
    }
   ],
   "source": [
    "for i in range(2):\n",
    "    x, y = train_generator.next()\n",
    "    print(x.shape, y.shape)\n",
    "    print(y)"
   ]
  },
  {
   "cell_type": "code",
   "execution_count": 53,
   "metadata": {},
   "outputs": [
    {
     "name": "stdout",
     "output_type": "stream",
     "text": [
      "Model: \"sequential_1\"\n",
      "_________________________________________________________________\n",
      "Layer (type)                 Output Shape              Param #   \n",
      "=================================================================\n",
      "conv2d_2 (Conv2D)            (None, 40, 32, 16)        448       \n",
      "_________________________________________________________________\n",
      "batch_normalization_2 (Batch (None, 40, 32, 16)        64        \n",
      "_________________________________________________________________\n",
      "max_pooling2d_2 (MaxPooling2 (None, 20, 16, 16)        0         \n",
      "_________________________________________________________________\n",
      "conv2d_3 (Conv2D)            (None, 20, 16, 32)        4640      \n",
      "_________________________________________________________________\n",
      "batch_normalization_3 (Batch (None, 20, 16, 32)        128       \n",
      "_________________________________________________________________\n",
      "max_pooling2d_3 (MaxPooling2 (None, 10, 8, 32)         0         \n",
      "_________________________________________________________________\n",
      "flatten_1 (Flatten)          (None, 2560)              0         \n",
      "_________________________________________________________________\n",
      "dense_2 (Dense)              (None, 320)               819520    \n",
      "_________________________________________________________________\n",
      "dropout_1 (Dropout)          (None, 320)               0         \n",
      "_________________________________________________________________\n",
      "dense_3 (Dense)              (None, 6)                 1926      \n",
      "=================================================================\n",
      "Total params: 826,726\n",
      "Trainable params: 826,630\n",
      "Non-trainable params: 96\n",
      "_________________________________________________________________\n"
     ]
    }
   ],
   "source": [
    "model = keras.models.Sequential([\n",
    "    keras.layers.Conv2D(filters=16, kernel_size=(3,3), padding='same',\n",
    "                        activation='relu', \n",
    "                        input_shape=[height,width,channels]),\n",
    "    keras.layers.BatchNormalization(),  \n",
    "    keras.layers.MaxPool2D(pool_size=(2,2)),\n",
    "    keras.layers.Conv2D(filters=32, kernel_size=(3,3), padding='same',\n",
    "                        activation='relu'),\n",
    "    keras.layers.BatchNormalization(),\n",
    "    keras.layers.MaxPool2D(pool_size=(2,2)),    \n",
    "    keras.layers.Flatten(),\n",
    "    keras.layers.Dense(320, activation='relu'),\n",
    "    keras.layers.Dropout(0.25),\n",
    "    keras.layers.Dense(num_classes, activation='softmax'),\n",
    "])\n",
    "\n",
    "initial_lr=0.01\n",
    "epochs = 20\n",
    "decay_rate=initial_lr/epochs\n",
    "sgd=keras.optimizers.SGD(lr=initial_lr,decay=decay_rate)\n",
    "\n",
    "model.compile(loss=\"sparse_categorical_crossentropy\",\n",
    "              optimizer=sgd, metrics=['accuracy'])\n",
    "model.summary()"
   ]
  },
  {
   "cell_type": "code",
   "execution_count": 54,
   "metadata": {},
   "outputs": [
    {
     "name": "stdout",
     "output_type": "stream",
     "text": [
      "Epoch 1/5\n",
      "39/39 [==============================] - 3s 79ms/step - loss: 0.5896 - accuracy: 0.8535 - val_loss: 1.5138 - val_accuracy: 0.7812\n",
      "Epoch 2/5\n",
      "39/39 [==============================] - 3s 77ms/step - loss: 0.0337 - accuracy: 0.9959 - val_loss: 1.3755 - val_accuracy: 0.7812\n",
      "Epoch 3/5\n",
      "39/39 [==============================] - 3s 77ms/step - loss: 0.0160 - accuracy: 0.9975 - val_loss: 1.2022 - val_accuracy: 0.8438\n",
      "Epoch 4/5\n",
      "39/39 [==============================] - 3s 79ms/step - loss: 0.0118 - accuracy: 0.9992 - val_loss: 0.9818 - val_accuracy: 0.9062\n",
      "Epoch 5/5\n",
      "39/39 [==============================] - 3s 78ms/step - loss: 0.0093 - accuracy: 1.0000 - val_loss: 0.7427 - val_accuracy: 0.9688\n"
     ]
    }
   ],
   "source": [
    "train_num = train_generator.samples\n",
    "valid_num = valid_generator.samples\n",
    "\n",
    "history = model.fit_generator(train_generator,\n",
    "                              steps_per_epoch = train_num // batch_size,\n",
    "                              epochs = 5,\n",
    "                              validation_data = valid_generator,\n",
    "                              validation_steps = valid_num // batch_size)"
   ]
  },
  {
   "cell_type": "code",
   "execution_count": 55,
   "metadata": {},
   "outputs": [
    {
     "name": "stdout",
     "output_type": "stream",
     "text": [
      "Found 10 validated image filenames belonging to 6 classes.\n"
     ]
    },
    {
     "data": {
      "text/html": [
       "<div>\n",
       "<style scoped>\n",
       "    .dataframe tbody tr th:only-of-type {\n",
       "        vertical-align: middle;\n",
       "    }\n",
       "\n",
       "    .dataframe tbody tr th {\n",
       "        vertical-align: top;\n",
       "    }\n",
       "\n",
       "    .dataframe thead th {\n",
       "        text-align: right;\n",
       "    }\n",
       "</style>\n",
       "<table border=\"1\" class=\"dataframe\">\n",
       "  <thead>\n",
       "    <tr style=\"text-align: right;\">\n",
       "      <th></th>\n",
       "      <th>paths</th>\n",
       "      <th>labels</th>\n",
       "    </tr>\n",
       "  </thead>\n",
       "  <tbody>\n",
       "    <tr>\n",
       "      <td>0</td>\n",
       "      <td>/root/tensorflow_practice/carplate_recognition...</td>\n",
       "      <td>粤</td>\n",
       "    </tr>\n",
       "    <tr>\n",
       "      <td>1</td>\n",
       "      <td>/root/tensorflow_practice/carplate_recognition...</td>\n",
       "      <td>苏</td>\n",
       "    </tr>\n",
       "    <tr>\n",
       "      <td>2</td>\n",
       "      <td>/root/tensorflow_practice/carplate_recognition...</td>\n",
       "      <td>粤</td>\n",
       "    </tr>\n",
       "    <tr>\n",
       "      <td>3</td>\n",
       "      <td>/root/tensorflow_practice/carplate_recognition...</td>\n",
       "      <td>苏</td>\n",
       "    </tr>\n",
       "    <tr>\n",
       "      <td>4</td>\n",
       "      <td>/root/tensorflow_practice/carplate_recognition...</td>\n",
       "      <td>沪</td>\n",
       "    </tr>\n",
       "    <tr>\n",
       "      <td>5</td>\n",
       "      <td>/root/tensorflow_practice/carplate_recognition...</td>\n",
       "      <td>粤</td>\n",
       "    </tr>\n",
       "    <tr>\n",
       "      <td>6</td>\n",
       "      <td>/root/tensorflow_practice/carplate_recognition...</td>\n",
       "      <td>闽</td>\n",
       "    </tr>\n",
       "    <tr>\n",
       "      <td>7</td>\n",
       "      <td>/root/tensorflow_practice/carplate_recognition...</td>\n",
       "      <td>苏</td>\n",
       "    </tr>\n",
       "    <tr>\n",
       "      <td>8</td>\n",
       "      <td>/root/tensorflow_practice/carplate_recognition...</td>\n",
       "      <td>浙</td>\n",
       "    </tr>\n",
       "    <tr>\n",
       "      <td>9</td>\n",
       "      <td>/root/tensorflow_practice/carplate_recognition...</td>\n",
       "      <td>粤</td>\n",
       "    </tr>\n",
       "  </tbody>\n",
       "</table>\n",
       "</div>"
      ],
      "text/plain": [
       "                                               paths labels\n",
       "0  /root/tensorflow_practice/carplate_recognition...      粤\n",
       "1  /root/tensorflow_practice/carplate_recognition...      苏\n",
       "2  /root/tensorflow_practice/carplate_recognition...      粤\n",
       "3  /root/tensorflow_practice/carplate_recognition...      苏\n",
       "4  /root/tensorflow_practice/carplate_recognition...      沪\n",
       "5  /root/tensorflow_practice/carplate_recognition...      粤\n",
       "6  /root/tensorflow_practice/carplate_recognition...      闽\n",
       "7  /root/tensorflow_practice/carplate_recognition...      苏\n",
       "8  /root/tensorflow_practice/carplate_recognition...      浙\n",
       "9  /root/tensorflow_practice/carplate_recognition...      粤"
      ]
     },
     "execution_count": 55,
     "metadata": {},
     "output_type": "execute_result"
    }
   ],
   "source": [
    "test_data=number_test_data[:10]\n",
    "\n",
    "valid_datagen = keras.preprocessing.image.ImageDataGenerator(\n",
    "    rescale = 1./255\n",
    ")\n",
    "\n",
    "test_generator = valid_datagen.flow_from_dataframe(\n",
    "    test_data,\n",
    "    directory = '/',\n",
    "    x_col = 'paths',\n",
    "    y_col = 'labels',\n",
    "    classes = dict_number_value,\n",
    "    target_size = (height, width),\n",
    "    batch_size = batch_size,\n",
    "    seed = 7,\n",
    "    shuffle = False,\n",
    "    class_mode = \"sparse\")\n",
    "\n",
    "test_data"
   ]
  },
  {
   "cell_type": "code",
   "execution_count": 56,
   "metadata": {},
   "outputs": [
    {
     "data": {
      "text/plain": [
       "['粤', '苏', '粤', '苏', '沪', '粤', '闽', '苏', '浙', '粤']"
      ]
     },
     "execution_count": 56,
     "metadata": {},
     "output_type": "execute_result"
    }
   ],
   "source": [
    "##通过predict_generator进行预测\n",
    "\n",
    "test_predict = model.predict_generator(test_generator)\n",
    "test_predict_class_indices = np.argmax(test_predict, axis = 1)\n",
    "\n",
    "labels=train_generator.class_indices\n",
    "list(test_predict_class_indices)\n",
    "pred_labels=[list(labels.keys())[i] for i in list(test_predict_class_indices)]\n",
    "pred_labels"
   ]
  },
  {
   "cell_type": "code",
   "execution_count": 58,
   "metadata": {},
   "outputs": [
    {
     "data": {
      "text/plain": [
       "'沪'"
      ]
     },
     "execution_count": 58,
     "metadata": {},
     "output_type": "execute_result"
    }
   ],
   "source": [
    "##cv2单张图片预测\n",
    "\n",
    "img_paths='/root/tensorflow_practice/carplate_recognition/car_license_dataset/train_images/validation-set/chinese-characters/4/1510069703_500_1.bmp'\n",
    "img=cv2.imread(img_paths)\n",
    "img=img/255.\n",
    "img=img.reshape(1,40,32,3)\n",
    "\n",
    "test_predict1=model.predict(img)\n",
    "test_predict1_class_indices = np.argmax(test_predict1, axis = 1)[0]\n",
    "pred_label1=list(labels.keys())[test_predict1_class_indices]\n",
    "pred_label1"
   ]
  },
  {
   "cell_type": "code",
   "execution_count": 81,
   "metadata": {},
   "outputs": [],
   "source": [
    "from keras.preprocessing import image\n",
    "from tensorflow.keras import backend as K\n",
    "\n",
    "img=image.load_img(img_paths)\n",
    "x=image.img_to_array(img)/255.\n",
    "x=np.expand_dims(x,axis=0)"
   ]
  },
  {
   "cell_type": "code",
   "execution_count": 82,
   "metadata": {},
   "outputs": [
    {
     "data": {
      "text/plain": [
       "'沪'"
      ]
     },
     "execution_count": 82,
     "metadata": {},
     "output_type": "execute_result"
    }
   ],
   "source": [
    "test_predict2=model.predict(x)\n",
    "test_predict2_class_indices = np.argmax(test_predict2, axis = 1)[0]\n",
    "pred_label2=list(labels.keys())[test_predict2_class_indices]\n",
    "pred_label2"
   ]
  }
 ],
 "metadata": {
  "kernelspec": {
   "display_name": "Python 3",
   "language": "python",
   "name": "python3"
  },
  "language_info": {
   "codemirror_mode": {
    "name": "ipython",
    "version": 3
   },
   "file_extension": ".py",
   "mimetype": "text/x-python",
   "name": "python",
   "nbconvert_exporter": "python",
   "pygments_lexer": "ipython3",
   "version": "3.7.4"
  }
 },
 "nbformat": 4,
 "nbformat_minor": 2
}
