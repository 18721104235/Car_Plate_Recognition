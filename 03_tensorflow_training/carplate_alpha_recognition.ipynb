{
 "cells": [
  {
   "cell_type": "code",
   "execution_count": 1,
   "metadata": {},
   "outputs": [],
   "source": [
    "import numpy as np\n",
    "import glob\n",
    "import pandas as pd\n",
    "import os"
   ]
  },
  {
   "cell_type": "code",
   "execution_count": 2,
   "metadata": {},
   "outputs": [
    {
     "data": {
      "text/plain": [
       "{10: 'A',\n",
       " 11: 'B',\n",
       " 12: 'C',\n",
       " 13: 'D',\n",
       " 14: 'E',\n",
       " 15: 'F',\n",
       " 16: 'G',\n",
       " 17: 'H',\n",
       " 18: 'J',\n",
       " 19: 'K',\n",
       " 20: 'L',\n",
       " 21: 'M',\n",
       " 22: 'N',\n",
       " 23: 'P',\n",
       " 24: 'Q',\n",
       " 25: 'R',\n",
       " 26: 'S',\n",
       " 27: 'T',\n",
       " 28: 'U',\n",
       " 29: 'V',\n",
       " 30: 'W',\n",
       " 31: 'X',\n",
       " 32: 'Y',\n",
       " 33: 'Z'}"
      ]
     },
     "execution_count": 2,
     "metadata": {},
     "output_type": "execute_result"
    }
   ],
   "source": [
    "train_root_path='./car_license_dataset/train_images/training-set/'\n",
    "test_root_path='./car_license_dataset/train_images/validation-set/'\n",
    "\n",
    "dict_number_value=list('ABCDEFGHJKLMNPQRSTUVWXYZ')\n",
    "dict_number_key=list(range(10,34))\n",
    "dict_number=dict(zip(dict_number_key,dict_number_value))\n",
    "dict_number"
   ]
  },
  {
   "cell_type": "code",
   "execution_count": 3,
   "metadata": {},
   "outputs": [],
   "source": [
    "train_paths=glob.glob(train_root_path+'*/*')\n",
    "test_paths=glob.glob(test_root_path+'*/*')"
   ]
  },
  {
   "cell_type": "code",
   "execution_count": 4,
   "metadata": {},
   "outputs": [],
   "source": [
    "number_paths=[]\n",
    "labels=[]\n",
    "for path in train_paths:\n",
    "    idx=path.split('/')[-2]\n",
    "    if str.isdigit(idx):\n",
    "        if 9<int(idx)<34:\n",
    "            label=dict_number[int(idx)]\n",
    "            number_paths.append(path)\n",
    "            labels.append(label)"
   ]
  },
  {
   "cell_type": "code",
   "execution_count": 5,
   "metadata": {},
   "outputs": [
    {
     "data": {
      "text/html": [
       "<div>\n",
       "<style scoped>\n",
       "    .dataframe tbody tr th:only-of-type {\n",
       "        vertical-align: middle;\n",
       "    }\n",
       "\n",
       "    .dataframe tbody tr th {\n",
       "        vertical-align: top;\n",
       "    }\n",
       "\n",
       "    .dataframe thead th {\n",
       "        text-align: right;\n",
       "    }\n",
       "</style>\n",
       "<table border=\"1\" class=\"dataframe\">\n",
       "  <thead>\n",
       "    <tr style=\"text-align: right;\">\n",
       "      <th></th>\n",
       "      <th>paths</th>\n",
       "      <th>labels</th>\n",
       "    </tr>\n",
       "  </thead>\n",
       "  <tbody>\n",
       "    <tr>\n",
       "      <td>0</td>\n",
       "      <td>/root/tensorflow_practice/carplate_recognition...</td>\n",
       "      <td>A</td>\n",
       "    </tr>\n",
       "    <tr>\n",
       "      <td>1</td>\n",
       "      <td>/root/tensorflow_practice/carplate_recognition...</td>\n",
       "      <td>C</td>\n",
       "    </tr>\n",
       "    <tr>\n",
       "      <td>2</td>\n",
       "      <td>/root/tensorflow_practice/carplate_recognition...</td>\n",
       "      <td>N</td>\n",
       "    </tr>\n",
       "    <tr>\n",
       "      <td>3</td>\n",
       "      <td>/root/tensorflow_practice/carplate_recognition...</td>\n",
       "      <td>B</td>\n",
       "    </tr>\n",
       "    <tr>\n",
       "      <td>4</td>\n",
       "      <td>/root/tensorflow_practice/carplate_recognition...</td>\n",
       "      <td>M</td>\n",
       "    </tr>\n",
       "    <tr>\n",
       "      <td>...</td>\n",
       "      <td>...</td>\n",
       "      <td>...</td>\n",
       "    </tr>\n",
       "    <tr>\n",
       "      <td>3193</td>\n",
       "      <td>/root/tensorflow_practice/carplate_recognition...</td>\n",
       "      <td>U</td>\n",
       "    </tr>\n",
       "    <tr>\n",
       "      <td>3194</td>\n",
       "      <td>/root/tensorflow_practice/carplate_recognition...</td>\n",
       "      <td>C</td>\n",
       "    </tr>\n",
       "    <tr>\n",
       "      <td>3195</td>\n",
       "      <td>/root/tensorflow_practice/carplate_recognition...</td>\n",
       "      <td>C</td>\n",
       "    </tr>\n",
       "    <tr>\n",
       "      <td>3196</td>\n",
       "      <td>/root/tensorflow_practice/carplate_recognition...</td>\n",
       "      <td>N</td>\n",
       "    </tr>\n",
       "    <tr>\n",
       "      <td>3197</td>\n",
       "      <td>/root/tensorflow_practice/carplate_recognition...</td>\n",
       "      <td>Q</td>\n",
       "    </tr>\n",
       "  </tbody>\n",
       "</table>\n",
       "<p>3198 rows × 2 columns</p>\n",
       "</div>"
      ],
      "text/plain": [
       "                                                  paths labels\n",
       "0     /root/tensorflow_practice/carplate_recognition...      A\n",
       "1     /root/tensorflow_practice/carplate_recognition...      C\n",
       "2     /root/tensorflow_practice/carplate_recognition...      N\n",
       "3     /root/tensorflow_practice/carplate_recognition...      B\n",
       "4     /root/tensorflow_practice/carplate_recognition...      M\n",
       "...                                                 ...    ...\n",
       "3193  /root/tensorflow_practice/carplate_recognition...      U\n",
       "3194  /root/tensorflow_practice/carplate_recognition...      C\n",
       "3195  /root/tensorflow_practice/carplate_recognition...      C\n",
       "3196  /root/tensorflow_practice/carplate_recognition...      N\n",
       "3197  /root/tensorflow_practice/carplate_recognition...      Q\n",
       "\n",
       "[3198 rows x 2 columns]"
      ]
     },
     "execution_count": 5,
     "metadata": {},
     "output_type": "execute_result"
    }
   ],
   "source": [
    "train_number_data=np.c_[np.array(number_paths),np.array(labels)]\n",
    "np.random.shuffle(train_number_data)\n",
    "number_train_data=pd.DataFrame(train_number_data,columns=['paths','labels'])\n",
    "number_train_data"
   ]
  },
  {
   "cell_type": "code",
   "execution_count": 6,
   "metadata": {},
   "outputs": [],
   "source": [
    "number_paths=[]\n",
    "labels=[]\n",
    "for path in test_paths:\n",
    "    idx=path.split('/')[-2]\n",
    "    if str.isdigit(idx):\n",
    "        if 9<int(idx)<34:\n",
    "            label=dict_number[int(idx)]\n",
    "            number_paths.append(path)\n",
    "            labels.append(label)"
   ]
  },
  {
   "cell_type": "code",
   "execution_count": 7,
   "metadata": {},
   "outputs": [
    {
     "data": {
      "text/html": [
       "<div>\n",
       "<style scoped>\n",
       "    .dataframe tbody tr th:only-of-type {\n",
       "        vertical-align: middle;\n",
       "    }\n",
       "\n",
       "    .dataframe tbody tr th {\n",
       "        vertical-align: top;\n",
       "    }\n",
       "\n",
       "    .dataframe thead th {\n",
       "        text-align: right;\n",
       "    }\n",
       "</style>\n",
       "<table border=\"1\" class=\"dataframe\">\n",
       "  <thead>\n",
       "    <tr style=\"text-align: right;\">\n",
       "      <th></th>\n",
       "      <th>paths</th>\n",
       "      <th>labels</th>\n",
       "    </tr>\n",
       "  </thead>\n",
       "  <tbody>\n",
       "    <tr>\n",
       "      <td>0</td>\n",
       "      <td>/root/tensorflow_practice/carplate_recognition...</td>\n",
       "      <td>A</td>\n",
       "    </tr>\n",
       "    <tr>\n",
       "      <td>1</td>\n",
       "      <td>/root/tensorflow_practice/carplate_recognition...</td>\n",
       "      <td>A</td>\n",
       "    </tr>\n",
       "    <tr>\n",
       "      <td>2</td>\n",
       "      <td>/root/tensorflow_practice/carplate_recognition...</td>\n",
       "      <td>M</td>\n",
       "    </tr>\n",
       "    <tr>\n",
       "      <td>3</td>\n",
       "      <td>/root/tensorflow_practice/carplate_recognition...</td>\n",
       "      <td>Q</td>\n",
       "    </tr>\n",
       "    <tr>\n",
       "      <td>4</td>\n",
       "      <td>/root/tensorflow_practice/carplate_recognition...</td>\n",
       "      <td>B</td>\n",
       "    </tr>\n",
       "    <tr>\n",
       "      <td>...</td>\n",
       "      <td>...</td>\n",
       "      <td>...</td>\n",
       "    </tr>\n",
       "    <tr>\n",
       "      <td>76</td>\n",
       "      <td>/root/tensorflow_practice/carplate_recognition...</td>\n",
       "      <td>K</td>\n",
       "    </tr>\n",
       "    <tr>\n",
       "      <td>77</td>\n",
       "      <td>/root/tensorflow_practice/carplate_recognition...</td>\n",
       "      <td>G</td>\n",
       "    </tr>\n",
       "    <tr>\n",
       "      <td>78</td>\n",
       "      <td>/root/tensorflow_practice/carplate_recognition...</td>\n",
       "      <td>B</td>\n",
       "    </tr>\n",
       "    <tr>\n",
       "      <td>79</td>\n",
       "      <td>/root/tensorflow_practice/carplate_recognition...</td>\n",
       "      <td>G</td>\n",
       "    </tr>\n",
       "    <tr>\n",
       "      <td>80</td>\n",
       "      <td>/root/tensorflow_practice/carplate_recognition...</td>\n",
       "      <td>V</td>\n",
       "    </tr>\n",
       "  </tbody>\n",
       "</table>\n",
       "<p>81 rows × 2 columns</p>\n",
       "</div>"
      ],
      "text/plain": [
       "                                                paths labels\n",
       "0   /root/tensorflow_practice/carplate_recognition...      A\n",
       "1   /root/tensorflow_practice/carplate_recognition...      A\n",
       "2   /root/tensorflow_practice/carplate_recognition...      M\n",
       "3   /root/tensorflow_practice/carplate_recognition...      Q\n",
       "4   /root/tensorflow_practice/carplate_recognition...      B\n",
       "..                                                ...    ...\n",
       "76  /root/tensorflow_practice/carplate_recognition...      K\n",
       "77  /root/tensorflow_practice/carplate_recognition...      G\n",
       "78  /root/tensorflow_practice/carplate_recognition...      B\n",
       "79  /root/tensorflow_practice/carplate_recognition...      G\n",
       "80  /root/tensorflow_practice/carplate_recognition...      V\n",
       "\n",
       "[81 rows x 2 columns]"
      ]
     },
     "execution_count": 7,
     "metadata": {},
     "output_type": "execute_result"
    }
   ],
   "source": [
    "test_number_data=np.c_[np.array(number_paths),np.array(labels)]\n",
    "np.random.shuffle(test_number_data)\n",
    "number_test_data=pd.DataFrame(test_number_data,columns=['paths','labels'])\n",
    "number_test_data"
   ]
  },
  {
   "cell_type": "code",
   "execution_count": 8,
   "metadata": {},
   "outputs": [
    {
     "name": "stdout",
     "output_type": "stream",
     "text": [
      "2.0.0\n",
      "sys.version_info(major=3, minor=7, micro=4, releaselevel='final', serial=0)\n",
      "matplotlib 3.1.1\n",
      "numpy 1.17.2\n",
      "pandas 0.25.1\n",
      "sklearn 0.21.3\n",
      "tensorflow 2.0.0\n",
      "tensorflow_core.keras 2.2.4-tf\n"
     ]
    }
   ],
   "source": [
    "%matplotlib inline\n",
    "import matplotlib as mpl\n",
    "import matplotlib.pyplot as plt\n",
    "import numpy as np\n",
    "import os\n",
    "import pandas as pd\n",
    "import sklearn\n",
    "import sys\n",
    "import tensorflow as tf\n",
    "import time\n",
    "\n",
    "from tensorflow import keras\n",
    "\n",
    "print(tf.__version__)\n",
    "print(sys.version_info)\n",
    "for module in mpl, np, pd, sklearn, tf, keras:\n",
    "    print(module.__name__, module.__version__)"
   ]
  },
  {
   "cell_type": "code",
   "execution_count": 9,
   "metadata": {},
   "outputs": [
    {
     "name": "stdout",
     "output_type": "stream",
     "text": [
      "Found 3198 validated image filenames belonging to 24 classes.\n"
     ]
    }
   ],
   "source": [
    "height = 32\n",
    "width = 32\n",
    "channels = 1\n",
    "batch_size = 32\n",
    "num_classes = 24\n",
    "\n",
    "train_datagen = keras.preprocessing.image.ImageDataGenerator(\n",
    "    rescale = 1./255\n",
    ")\n",
    "\n",
    "train_generator = train_datagen.flow_from_dataframe(\n",
    "    number_train_data,\n",
    "    directory = '/',\n",
    "    x_col = 'paths',\n",
    "    y_col = 'labels',\n",
    "    classes = dict_number_value,\n",
    "    target_size = (height, width),\n",
    "    batch_size = batch_size,\n",
    "    seed = 7,\n",
    "    shuffle = True,\n",
    "    class_mode = 'sparse',\n",
    "    color_mode='grayscale'\n",
    ")"
   ]
  },
  {
   "cell_type": "code",
   "execution_count": 10,
   "metadata": {},
   "outputs": [
    {
     "name": "stdout",
     "output_type": "stream",
     "text": [
      "Found 81 validated image filenames belonging to 24 classes.\n"
     ]
    }
   ],
   "source": [
    "valid_datagen = keras.preprocessing.image.ImageDataGenerator(\n",
    "    rescale = 1./255\n",
    ")\n",
    "\n",
    "valid_generator = valid_datagen.flow_from_dataframe(\n",
    "    number_test_data,\n",
    "    directory = '/',\n",
    "    x_col = 'paths',\n",
    "    y_col = 'labels',\n",
    "    classes = dict_number_value,\n",
    "    target_size = (height, width),\n",
    "    batch_size = batch_size,\n",
    "    seed = 7,\n",
    "    shuffle = False,\n",
    "    class_mode = \"sparse\",\n",
    "color_mode='grayscale')"
   ]
  },
  {
   "cell_type": "code",
   "execution_count": 11,
   "metadata": {},
   "outputs": [
    {
     "name": "stdout",
     "output_type": "stream",
     "text": [
      "(32, 32, 32, 1) (32,)\n",
      "[ 2. 17. 17.  5. 22.  3.  0.  9. 19. 23. 15. 19. 23.  2. 20.  1.  2. 19.\n",
      "  1.  2. 20.  4.  0.  0. 22. 17.  1.  1.  7.  9.  0. 13.]\n",
      "(32, 32, 32, 1) (32,)\n",
      "[ 4. 16. 16.  9. 11.  2.  1. 19.  4. 14. 14. 16. 21. 22.  0. 18.  4.  2.\n",
      " 15.  0.  0. 15.  0. 17. 12.  0. 14.  0. 15. 12. 15.  6.]\n"
     ]
    }
   ],
   "source": [
    "for i in range(2):\n",
    "    x, y = train_generator.next()\n",
    "    print(x.shape, y.shape)\n",
    "    print(y)"
   ]
  },
  {
   "cell_type": "code",
   "execution_count": 14,
   "metadata": {},
   "outputs": [
    {
     "name": "stdout",
     "output_type": "stream",
     "text": [
      "Model: \"sequential_1\"\n",
      "_________________________________________________________________\n",
      "Layer (type)                 Output Shape              Param #   \n",
      "=================================================================\n",
      "conv2d_3 (Conv2D)            (None, 32, 32, 32)        320       \n",
      "_________________________________________________________________\n",
      "conv2d_4 (Conv2D)            (None, 32, 32, 64)        18496     \n",
      "_________________________________________________________________\n",
      "batch_normalization_2 (Batch (None, 32, 32, 64)        256       \n",
      "_________________________________________________________________\n",
      "max_pooling2d_2 (MaxPooling2 (None, 16, 16, 64)        0         \n",
      "_________________________________________________________________\n",
      "conv2d_5 (Conv2D)            (None, 16, 16, 128)       73856     \n",
      "_________________________________________________________________\n",
      "batch_normalization_3 (Batch (None, 16, 16, 128)       512       \n",
      "_________________________________________________________________\n",
      "max_pooling2d_3 (MaxPooling2 (None, 8, 8, 128)         0         \n",
      "_________________________________________________________________\n",
      "flatten_1 (Flatten)          (None, 8192)              0         \n",
      "_________________________________________________________________\n",
      "dense_2 (Dense)              (None, 512)               4194816   \n",
      "_________________________________________________________________\n",
      "dropout_1 (Dropout)          (None, 512)               0         \n",
      "_________________________________________________________________\n",
      "dense_3 (Dense)              (None, 24)                12312     \n",
      "=================================================================\n",
      "Total params: 4,300,568\n",
      "Trainable params: 4,300,184\n",
      "Non-trainable params: 384\n",
      "_________________________________________________________________\n"
     ]
    }
   ],
   "source": [
    "model = keras.models.Sequential([\n",
    "    keras.layers.Conv2D(filters=32, kernel_size=(3,3), padding='same',\n",
    "                        activation='relu', \n",
    "                        input_shape=[width, height, channels]),\n",
    "    keras.layers.Conv2D(filters=64, kernel_size=(3,3), padding='same',\n",
    "                        activation='relu'),\n",
    "    keras.layers.BatchNormalization(),\n",
    "    keras.layers.MaxPool2D(pool_size=(2,2)),    \n",
    "    keras.layers.Conv2D(filters=128, kernel_size=(3,3), padding='same',\n",
    "                        activation='relu'),\n",
    "    keras.layers.BatchNormalization(),\n",
    "    keras.layers.MaxPool2D(pool_size=(2,2)),\n",
    "    keras.layers.Flatten(),\n",
    "    keras.layers.Dense(512, activation='relu'),\n",
    "    keras.layers.Dropout(0.25),\n",
    "    keras.layers.Dense(num_classes, activation='softmax'),\n",
    "])\n",
    "\n",
    "initial_lr=0.01\n",
    "epochs = 20\n",
    "decay_rate=initial_lr/epochs\n",
    "sgd=keras.optimizers.SGD(lr=initial_lr,decay=decay_rate)\n",
    "\n",
    "model.compile(loss=\"sparse_categorical_crossentropy\",\n",
    "              optimizer=sgd, metrics=['accuracy'])\n",
    "model.summary()\n"
   ]
  },
  {
   "cell_type": "code",
   "execution_count": 15,
   "metadata": {},
   "outputs": [
    {
     "name": "stdout",
     "output_type": "stream",
     "text": [
      "Epoch 1/20\n",
      "99/99 [==============================] - 21s 216ms/step - loss: 0.4242 - accuracy: 0.9106 - val_loss: 2.9546 - val_accuracy: 0.2031\n",
      "Epoch 2/20\n",
      "99/99 [==============================] - 21s 212ms/step - loss: 0.0208 - accuracy: 0.9994 - val_loss: 2.6302 - val_accuracy: 0.3281\n",
      "Epoch 3/20\n",
      "99/99 [==============================] - 20s 204ms/step - loss: 0.0123 - accuracy: 0.9994 - val_loss: 1.7061 - val_accuracy: 0.6875\n",
      "Epoch 4/20\n",
      "99/99 [==============================] - 20s 207ms/step - loss: 0.0086 - accuracy: 0.9997 - val_loss: 0.5407 - val_accuracy: 1.0000\n",
      "Epoch 5/20\n",
      "99/99 [==============================] - 20s 206ms/step - loss: 0.0062 - accuracy: 1.0000 - val_loss: 0.0893 - val_accuracy: 1.0000\n",
      "Epoch 6/20\n",
      "99/99 [==============================] - 21s 207ms/step - loss: 0.0052 - accuracy: 1.0000 - val_loss: 0.0227 - val_accuracy: 1.0000\n",
      "Epoch 7/20\n",
      "99/99 [==============================] - 21s 212ms/step - loss: 0.0044 - accuracy: 1.0000 - val_loss: 0.0110 - val_accuracy: 1.0000\n",
      "Epoch 8/20\n",
      "99/99 [==============================] - 25s 248ms/step - loss: 0.0036 - accuracy: 1.0000 - val_loss: 0.0086 - val_accuracy: 1.0000\n",
      "Epoch 9/20\n",
      "99/99 [==============================] - 24s 238ms/step - loss: 0.0036 - accuracy: 1.0000 - val_loss: 0.0092 - val_accuracy: 1.0000\n",
      "Epoch 10/20\n",
      "99/99 [==============================] - 23s 234ms/step - loss: 0.0032 - accuracy: 1.0000 - val_loss: 0.0087 - val_accuracy: 1.0000\n",
      "Epoch 11/20\n",
      "99/99 [==============================] - 23s 236ms/step - loss: 0.0027 - accuracy: 1.0000 - val_loss: 0.0079 - val_accuracy: 1.0000\n",
      "Epoch 12/20\n",
      "99/99 [==============================] - 23s 233ms/step - loss: 0.0023 - accuracy: 1.0000 - val_loss: 0.0080 - val_accuracy: 1.0000\n",
      "Epoch 13/20\n",
      "99/99 [==============================] - 21s 209ms/step - loss: 0.0022 - accuracy: 1.0000 - val_loss: 0.0086 - val_accuracy: 1.0000\n",
      "Epoch 14/20\n",
      "99/99 [==============================] - 21s 211ms/step - loss: 0.0024 - accuracy: 1.0000 - val_loss: 0.0074 - val_accuracy: 1.0000\n",
      "Epoch 15/20\n",
      "99/99 [==============================] - 21s 211ms/step - loss: 0.0022 - accuracy: 1.0000 - val_loss: 0.0074 - val_accuracy: 1.0000\n",
      "Epoch 16/20\n",
      "99/99 [==============================] - 21s 208ms/step - loss: 0.0021 - accuracy: 1.0000 - val_loss: 0.0065 - val_accuracy: 1.0000\n",
      "Epoch 17/20\n",
      "99/99 [==============================] - 23s 229ms/step - loss: 0.0020 - accuracy: 1.0000 - val_loss: 0.0076 - val_accuracy: 1.0000\n",
      "Epoch 18/20\n",
      "99/99 [==============================] - 25s 252ms/step - loss: 0.0019 - accuracy: 1.0000 - val_loss: 0.0077 - val_accuracy: 1.0000\n",
      "Epoch 19/20\n",
      "99/99 [==============================] - 24s 240ms/step - loss: 0.0017 - accuracy: 1.0000 - val_loss: 0.0075 - val_accuracy: 1.0000\n",
      "Epoch 20/20\n",
      "99/99 [==============================] - 24s 241ms/step - loss: 0.0019 - accuracy: 1.0000 - val_loss: 0.0073 - val_accuracy: 1.0000\n"
     ]
    }
   ],
   "source": [
    "train_num = train_generator.samples\n",
    "valid_num = valid_generator.samples\n",
    "\n",
    "history = model.fit_generator(train_generator,\n",
    "                              steps_per_epoch = train_num // batch_size,\n",
    "                              epochs = epochs,\n",
    "                              validation_data = valid_generator,\n",
    "                              validation_steps = valid_num // batch_size)"
   ]
  },
  {
   "cell_type": "code",
   "execution_count": null,
   "metadata": {},
   "outputs": [],
   "source": []
  }
 ],
 "metadata": {
  "kernelspec": {
   "display_name": "Python 3",
   "language": "python",
   "name": "python3"
  },
  "language_info": {
   "codemirror_mode": {
    "name": "ipython",
    "version": 3
   },
   "file_extension": ".py",
   "mimetype": "text/x-python",
   "name": "python",
   "nbconvert_exporter": "python",
   "pygments_lexer": "ipython3",
   "version": "3.7.4"
  }
 },
 "nbformat": 4,
 "nbformat_minor": 2
}
